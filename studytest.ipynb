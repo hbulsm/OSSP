{
 "cells": [
  {
   "cell_type": "code",
   "execution_count": 1,
   "metadata": {},
   "outputs": [
    {
     "name": "stdout",
     "output_type": "stream",
     "text": [
      "Value for3\n",
      "Value for3\n"
     ]
    }
   ],
   "source": [
    "class MyCollection:\n",
    "    def __getitem__(self, key):\n",
    "        return f\"Value for{key}\"\n",
    "collection = MyCollection()\n",
    "print(collection.__getitem__(3))\n",
    "print(collection[3])"
   ]
  }
 ],
 "metadata": {
  "kernelspec": {
   "display_name": "Python 3",
   "language": "python",
   "name": "python3"
  },
  "language_info": {
   "codemirror_mode": {
    "name": "ipython",
    "version": 3
   },
   "file_extension": ".py",
   "mimetype": "text/x-python",
   "name": "python",
   "nbconvert_exporter": "python",
   "pygments_lexer": "ipython3",
   "version": "3.12.2"
  }
 },
 "nbformat": 4,
 "nbformat_minor": 2
}
