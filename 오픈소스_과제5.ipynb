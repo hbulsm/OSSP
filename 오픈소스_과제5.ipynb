{
  "nbformat": 4,
  "nbformat_minor": 0,
  "metadata": {
    "colab": {
      "provenance": []
    },
    "kernelspec": {
      "name": "python3",
      "display_name": "Python 3"
    },
    "language_info": {
      "name": "python"
    }
  },
  "cells": [
    {
      "cell_type": "code",
      "execution_count": 1,
      "metadata": {
        "colab": {
          "base_uri": "https://localhost:8080/"
        },
        "id": "35AGNCwR1CH7",
        "outputId": "cfb7b3e7-7a3d-469b-9764-57f429a0f20f"
      },
      "outputs": [
        {
          "output_type": "execute_result",
          "data": {
            "text/plain": [
              "4"
            ]
          },
          "metadata": {},
          "execution_count": 1
        }
      ],
      "source": [
        "#예제10\n",
        "open('cafe.txt', 'w', encoding='utf8').write('café')"
      ]
    },
    {
      "cell_type": "code",
      "source": [
        "open('cafe.txt').read()"
      ],
      "metadata": {
        "colab": {
          "base_uri": "https://localhost:8080/",
          "height": 35
        },
        "id": "bhbZgdZM2FV2",
        "outputId": "7e36b181-efeb-4499-9d02-51ade52c89a8"
      },
      "execution_count": 2,
      "outputs": [
        {
          "output_type": "execute_result",
          "data": {
            "text/plain": [
              "'café'"
            ],
            "application/vnd.google.colaboratory.intrinsic+json": {
              "type": "string"
            }
          },
          "metadata": {},
          "execution_count": 2
        }
      ]
    },
    {
      "cell_type": "code",
      "source": [
        "#예제 11\n",
        "import sys, locale\n",
        "\n",
        "expressions = \"\"\"\n",
        "        locale.getpreferredencoding()\n",
        "        type(my_file)\n",
        "        my_file.encoding\n",
        "        sys.stdout.isatty()\n",
        "        sys.stdout.encoding\n",
        "        sys.stdin.isatty()\n",
        "        sys.stdin.encoding\n",
        "        sys.stderr.isatty()\n",
        "        sys.stderr.encoding\n",
        "        sys.getdefaultencoding()\n",
        "        sys.getfilesystemencoding()\n",
        "  \"\"\"\n",
        "\n",
        "my_file = open('dummy', 'w')\n",
        "\n",
        "for expression in expressions.split():\n",
        "  value = eval(expression)\n",
        "  print(expression.rjust(30), '->', repr(value))\n",
        "\n"
      ],
      "metadata": {
        "colab": {
          "base_uri": "https://localhost:8080/"
        },
        "id": "VLJuGjn92HBP",
        "outputId": "24bb1001-d767-4e8a-8e93-902b43632792"
      },
      "execution_count": 5,
      "outputs": [
        {
          "output_type": "stream",
          "name": "stdout",
          "text": [
            " locale.getpreferredencoding() -> 'UTF-8'\n",
            "                 type(my_file) -> <class '_io.TextIOWrapper'>\n",
            "              my_file.encoding -> 'UTF-8'\n",
            "           sys.stdout.isatty() -> False\n",
            "           sys.stdout.encoding -> 'UTF-8'\n",
            "            sys.stdin.isatty() -> False\n",
            "            sys.stdin.encoding -> 'utf-8'\n",
            "           sys.stderr.isatty() -> False\n",
            "           sys.stderr.encoding -> 'UTF-8'\n",
            "      sys.getdefaultencoding() -> 'utf-8'\n",
            "   sys.getfilesystemencoding() -> 'utf-8'\n"
          ]
        }
      ]
    },
    {
      "cell_type": "code",
      "source": [
        "#예제 12\n",
        "from unicodedata import normalize\n",
        "s1='café'\n",
        "s2='café'\n",
        "len(normalize('NFC',s1)), len(normalize('NFC',s2))"
      ],
      "metadata": {
        "colab": {
          "base_uri": "https://localhost:8080/"
        },
        "id": "lfEUoOPM4d1n",
        "outputId": "bde6896f-22fd-4df8-f963-24f0d2912a51"
      },
      "execution_count": 7,
      "outputs": [
        {
          "output_type": "execute_result",
          "data": {
            "text/plain": [
              "(4, 4)"
            ]
          },
          "metadata": {},
          "execution_count": 7
        }
      ]
    },
    {
      "cell_type": "code",
      "source": [
        "len(normalize('NFD',s1)), len(normalize('NFD',s2))"
      ],
      "metadata": {
        "colab": {
          "base_uri": "https://localhost:8080/"
        },
        "id": "qG5o4FII5Ys3",
        "outputId": "46de44ee-bc94-455d-fdfc-371bfc05af00"
      },
      "execution_count": 9,
      "outputs": [
        {
          "output_type": "execute_result",
          "data": {
            "text/plain": [
              "(5, 5)"
            ]
          },
          "metadata": {},
          "execution_count": 9
        }
      ]
    },
    {
      "cell_type": "code",
      "source": [
        "normalize('NFC',s1), normalize('NFC',s2)"
      ],
      "metadata": {
        "colab": {
          "base_uri": "https://localhost:8080/"
        },
        "id": "UxZHzEgW5Yp3",
        "outputId": "ef7fb791-1575-41da-b5e1-ddf80442889b"
      },
      "execution_count": 11,
      "outputs": [
        {
          "output_type": "execute_result",
          "data": {
            "text/plain": [
              "('café', 'café')"
            ]
          },
          "metadata": {},
          "execution_count": 11
        }
      ]
    },
    {
      "cell_type": "code",
      "source": [
        "normalize('NFD',s1), normalize('NFD',s2)"
      ],
      "metadata": {
        "colab": {
          "base_uri": "https://localhost:8080/"
        },
        "id": "BiS6zXhl5Ym_",
        "outputId": "b7621d2f-109a-4120-9d9d-bb73869fdcd6"
      },
      "execution_count": 12,
      "outputs": [
        {
          "output_type": "execute_result",
          "data": {
            "text/plain": [
              "('café', 'café')"
            ]
          },
          "metadata": {},
          "execution_count": 12
        }
      ]
    },
    {
      "cell_type": "code",
      "source": [
        "normalize('NFC',s1) == normalize('NFC',s2)"
      ],
      "metadata": {
        "colab": {
          "base_uri": "https://localhost:8080/"
        },
        "id": "-FjOAgUy5Yhf",
        "outputId": "ad281497-5daa-490e-a5a5-09adb9a595b7"
      },
      "execution_count": 10,
      "outputs": [
        {
          "output_type": "execute_result",
          "data": {
            "text/plain": [
              "True"
            ]
          },
          "metadata": {},
          "execution_count": 10
        }
      ]
    },
    {
      "cell_type": "code",
      "source": [
        "normalize('NFD',s1) == normalize('NFD',s2)"
      ],
      "metadata": {
        "colab": {
          "base_uri": "https://localhost:8080/"
        },
        "id": "JYMTtWxs5YVQ",
        "outputId": "a5a37721-2dc9-4394-9b7b-787c1df89b31"
      },
      "execution_count": 13,
      "outputs": [
        {
          "output_type": "execute_result",
          "data": {
            "text/plain": [
              "True"
            ]
          },
          "metadata": {},
          "execution_count": 13
        }
      ]
    },
    {
      "cell_type": "code",
      "source": [
        "#예제 13\n",
        "from unicodedata import normalize, name\n",
        "ohm = '\\u2126'\n",
        "name(ohm)"
      ],
      "metadata": {
        "colab": {
          "base_uri": "https://localhost:8080/",
          "height": 35
        },
        "id": "ApAACZk25sOt",
        "outputId": "28072506-d7ad-46ae-8445-dabbbb8b4af3"
      },
      "execution_count": 15,
      "outputs": [
        {
          "output_type": "execute_result",
          "data": {
            "text/plain": [
              "'OHM SIGN'"
            ],
            "application/vnd.google.colaboratory.intrinsic+json": {
              "type": "string"
            }
          },
          "metadata": {},
          "execution_count": 15
        }
      ]
    },
    {
      "cell_type": "code",
      "source": [
        "ohm_c = normalize('NFC', ohm)\n",
        "name(ohm_c)"
      ],
      "metadata": {
        "colab": {
          "base_uri": "https://localhost:8080/",
          "height": 35
        },
        "id": "-7fScNXL52wr",
        "outputId": "4e90bf7f-a752-43ec-b661-85124546221f"
      },
      "execution_count": 16,
      "outputs": [
        {
          "output_type": "execute_result",
          "data": {
            "text/plain": [
              "'GREEK CAPITAL LETTER OMEGA'"
            ],
            "application/vnd.google.colaboratory.intrinsic+json": {
              "type": "string"
            }
          },
          "metadata": {},
          "execution_count": 16
        }
      ]
    },
    {
      "cell_type": "code",
      "source": [
        "ohm, ohm_c, ohm == ohm_c"
      ],
      "metadata": {
        "colab": {
          "base_uri": "https://localhost:8080/"
        },
        "id": "4iBJaNAr52pI",
        "outputId": "2a161b03-fd69-4610-fbd5-c018b41f99db"
      },
      "execution_count": 17,
      "outputs": [
        {
          "output_type": "execute_result",
          "data": {
            "text/plain": [
              "('Ω', 'Ω', False)"
            ]
          },
          "metadata": {},
          "execution_count": 17
        }
      ]
    },
    {
      "cell_type": "code",
      "source": [
        "normalize('NFC', ohm) == normalize('NFC', ohm_c)"
      ],
      "metadata": {
        "colab": {
          "base_uri": "https://localhost:8080/"
        },
        "id": "Ho7MxcmJ52FO",
        "outputId": "490d1dd7-0c9f-45f9-c42f-fda233d6a0e7"
      },
      "execution_count": 19,
      "outputs": [
        {
          "output_type": "execute_result",
          "data": {
            "text/plain": [
              "True"
            ]
          },
          "metadata": {},
          "execution_count": 19
        }
      ]
    },
    {
      "cell_type": "code",
      "source": [
        "#예제 14\n",
        "eszett = 'ß'\n",
        "name(eszett)"
      ],
      "metadata": {
        "colab": {
          "base_uri": "https://localhost:8080/",
          "height": 35
        },
        "id": "P-J6r7up6FHs",
        "outputId": "69719a68-ada8-4ed7-e95c-a9fb3790b617"
      },
      "execution_count": 21,
      "outputs": [
        {
          "output_type": "execute_result",
          "data": {
            "text/plain": [
              "'LATIN SMALL LETTER SHARP S'"
            ],
            "application/vnd.google.colaboratory.intrinsic+json": {
              "type": "string"
            }
          },
          "metadata": {},
          "execution_count": 21
        }
      ]
    },
    {
      "cell_type": "code",
      "source": [
        "eszett_cf = eszett.casefold()\n",
        "eszett_cf2 = eszett.lower()\n",
        "eszett, eszett_cf, eszett_cf2"
      ],
      "metadata": {
        "colab": {
          "base_uri": "https://localhost:8080/"
        },
        "id": "qi1bwmAG6M2O",
        "outputId": "9e5f5fa3-3816-4920-d672-563d9a2c908b"
      },
      "execution_count": 22,
      "outputs": [
        {
          "output_type": "execute_result",
          "data": {
            "text/plain": [
              "('ß', 'ss', 'ß')"
            ]
          },
          "metadata": {},
          "execution_count": 22
        }
      ]
    },
    {
      "cell_type": "code",
      "source": [
        "#예제 15\n",
        "s1='café'\n",
        "s2='cafe\\u0301'\n",
        "s1 == s2"
      ],
      "metadata": {
        "colab": {
          "base_uri": "https://localhost:8080/"
        },
        "id": "WkdNXqv26beR",
        "outputId": "0f705a35-98fe-42f2-bcef-8786c4e62bd4"
      },
      "execution_count": 26,
      "outputs": [
        {
          "output_type": "execute_result",
          "data": {
            "text/plain": [
              "False"
            ]
          },
          "metadata": {},
          "execution_count": 26
        }
      ]
    },
    {
      "cell_type": "code",
      "source": [
        "s3 = 'Straße'\n",
        "s4 = 'strasse'\n",
        "\n",
        "s3 == s4"
      ],
      "metadata": {
        "colab": {
          "base_uri": "https://localhost:8080/"
        },
        "id": "zB3dKG357Ckz",
        "outputId": "092caae8-b3dc-45e5-e857-729cf22602c9"
      },
      "execution_count": 29,
      "outputs": [
        {
          "output_type": "execute_result",
          "data": {
            "text/plain": [
              "False"
            ]
          },
          "metadata": {},
          "execution_count": 29
        }
      ]
    },
    {
      "cell_type": "code",
      "source": [
        "from unicodedata import normalize\n",
        "def nfc_equal(str1, str2):\n",
        "  return normalize('NFC', str1) == normalize('NFC', str2)\n",
        "\n",
        "def fold_equal(str1, str2):\n",
        "  return (normalize('NFC', str1).casefold() ==\n",
        "          normalize('NFC', str2).casefold())\n",
        "\n",
        "nfc_equal(s1, s2)"
      ],
      "metadata": {
        "colab": {
          "base_uri": "https://localhost:8080/"
        },
        "id": "IZvfh-xs6izx",
        "outputId": "c6d035eb-67e8-4096-dbb3-30f959991e09"
      },
      "execution_count": 27,
      "outputs": [
        {
          "output_type": "execute_result",
          "data": {
            "text/plain": [
              "True"
            ]
          },
          "metadata": {},
          "execution_count": 27
        }
      ]
    },
    {
      "cell_type": "code",
      "source": [
        "fold_equal(s1, s2)"
      ],
      "metadata": {
        "colab": {
          "base_uri": "https://localhost:8080/"
        },
        "id": "IE9Y6vyG7NAm",
        "outputId": "85938d77-2d75-4525-ed0a-2786b5b8676e"
      },
      "execution_count": 30,
      "outputs": [
        {
          "output_type": "execute_result",
          "data": {
            "text/plain": [
              "True"
            ]
          },
          "metadata": {},
          "execution_count": 30
        }
      ]
    },
    {
      "cell_type": "code",
      "source": [
        "nfc_equal(s3, s4)"
      ],
      "metadata": {
        "colab": {
          "base_uri": "https://localhost:8080/"
        },
        "id": "Bd8iyjuI7PYf",
        "outputId": "d6687010-cb2f-44f4-d034-844ef3e41637"
      },
      "execution_count": 31,
      "outputs": [
        {
          "output_type": "execute_result",
          "data": {
            "text/plain": [
              "False"
            ]
          },
          "metadata": {},
          "execution_count": 31
        }
      ]
    },
    {
      "cell_type": "code",
      "source": [
        "fold_equal(s3, s4)"
      ],
      "metadata": {
        "colab": {
          "base_uri": "https://localhost:8080/"
        },
        "id": "FxxijRp_7POA",
        "outputId": "98556ac4-72df-4145-87ca-e486dfbb038f"
      },
      "execution_count": 32,
      "outputs": [
        {
          "output_type": "execute_result",
          "data": {
            "text/plain": [
              "True"
            ]
          },
          "metadata": {},
          "execution_count": 32
        }
      ]
    },
    {
      "cell_type": "code",
      "source": [
        "nfc_equal('A', 'a')"
      ],
      "metadata": {
        "colab": {
          "base_uri": "https://localhost:8080/"
        },
        "id": "aw6A9qBl62fM",
        "outputId": "4c16948a-4f46-4546-c4d8-9a5910696c5b"
      },
      "execution_count": 28,
      "outputs": [
        {
          "output_type": "execute_result",
          "data": {
            "text/plain": [
              "False"
            ]
          },
          "metadata": {},
          "execution_count": 28
        }
      ]
    },
    {
      "cell_type": "code",
      "source": [
        "fold_equal('A', 'a')"
      ],
      "metadata": {
        "colab": {
          "base_uri": "https://localhost:8080/"
        },
        "id": "BlQIva657T0u",
        "outputId": "cdec6405-fda2-47a3-d90c-c19c6160015f"
      },
      "execution_count": 33,
      "outputs": [
        {
          "output_type": "execute_result",
          "data": {
            "text/plain": [
              "True"
            ]
          },
          "metadata": {},
          "execution_count": 33
        }
      ]
    },
    {
      "cell_type": "code",
      "source": [
        "#예제 16\n",
        "import unicodedata\n",
        "import string\n",
        "\n",
        "def shave_marks(txt):\n",
        "  \"\"\"발음 구별 기호를 모두 제거한다\"\"\"\n",
        "  norm_txt = unicodedata.normalize('NFD', txt)\n",
        "  shaved = ''.join(c for c in norm_txt\n",
        "                   if not unicodedata.combining(c))\n",
        "  return unicodedata.normalize('NFC', shaved)"
      ],
      "metadata": {
        "id": "0Ujz_Qet7XpK"
      },
      "execution_count": 34,
      "outputs": []
    },
    {
      "cell_type": "code",
      "source": [
        "order = '“Herr Voß: • ½ cup of Œtker™ caffè latte • bowl of açaí.”'\n",
        "shave_marks(order)"
      ],
      "metadata": {
        "colab": {
          "base_uri": "https://localhost:8080/",
          "height": 35
        },
        "id": "OGZvuImw7qqB",
        "outputId": "7db40c9a-7a04-4db3-fd34-1e98433f667b"
      },
      "execution_count": 37,
      "outputs": [
        {
          "output_type": "execute_result",
          "data": {
            "text/plain": [
              "'“Herr Voß: • ½ cup of Œtker™ caffe latte • bowl of acai.”'"
            ],
            "application/vnd.google.colaboratory.intrinsic+json": {
              "type": "string"
            }
          },
          "metadata": {},
          "execution_count": 37
        }
      ]
    },
    {
      "cell_type": "code",
      "source": [
        "shave_marks('Straße')"
      ],
      "metadata": {
        "colab": {
          "base_uri": "https://localhost:8080/",
          "height": 35
        },
        "id": "VCEyoheU8iHU",
        "outputId": "52888fc1-4102-4c89-f3f2-b6e9130576e0"
      },
      "execution_count": 38,
      "outputs": [
        {
          "output_type": "execute_result",
          "data": {
            "text/plain": [
              "'Straße'"
            ],
            "application/vnd.google.colaboratory.intrinsic+json": {
              "type": "string"
            }
          },
          "metadata": {},
          "execution_count": 38
        }
      ]
    },
    {
      "cell_type": "code",
      "source": [
        "Greek = 'Ζέφυρος, Zéfiro'\n",
        "shave_marks(Greek)"
      ],
      "metadata": {
        "colab": {
          "base_uri": "https://localhost:8080/",
          "height": 35
        },
        "id": "aj0VC-iK7qcN",
        "outputId": "0b29bd8a-30a7-48c9-bff4-519f0c582b66"
      },
      "execution_count": 36,
      "outputs": [
        {
          "output_type": "execute_result",
          "data": {
            "text/plain": [
              "'Ζεφυρος, Zefiro'"
            ],
            "application/vnd.google.colaboratory.intrinsic+json": {
              "type": "string"
            }
          },
          "metadata": {},
          "execution_count": 36
        }
      ]
    },
    {
      "cell_type": "code",
      "source": [
        "shave_marks('café')"
      ],
      "metadata": {
        "colab": {
          "base_uri": "https://localhost:8080/",
          "height": 35
        },
        "id": "NNHAhdY07qTr",
        "outputId": "777aeb3f-3fad-4e94-f5a1-43c6bd093dbf"
      },
      "execution_count": 39,
      "outputs": [
        {
          "output_type": "execute_result",
          "data": {
            "text/plain": [
              "'cafe'"
            ],
            "application/vnd.google.colaboratory.intrinsic+json": {
              "type": "string"
            }
          },
          "metadata": {},
          "execution_count": 39
        }
      ]
    },
    {
      "cell_type": "code",
      "source": [
        "#예제 17\n",
        "def shave_marks_latin(txt):\n",
        "  norm_txt = unicodedata.normalize('NFD', txt)\n",
        "  latin_base = False\n",
        "  keepers = []\n",
        "\n",
        "  for c in norm_txt:\n",
        "    if unicodedata.combining(c) and latin_base:\n",
        "      continue\n",
        "    keepers.append(c)\n",
        "    if not unicodedata.combining(c):\n",
        "      latin_base = c in string.ascii_letters\n",
        "  shaved = ''.join(keepers)\n",
        "\n",
        "  return unicodedata.normalize('NFC', shaved)"
      ],
      "metadata": {
        "id": "B5VCz2xY9HDw"
      },
      "execution_count": 40,
      "outputs": []
    },
    {
      "cell_type": "code",
      "source": [
        "#예제 18\n",
        "single_map = str.maketrans(\"\"\"‚ƒ„†ˆ‹‘’“”•–—˜›\"\"\",\n",
        "                           \"\"\"'f\"*^<''\"\"---~>\"\"\")\n",
        "\n",
        "multi_map = str.maketrans({\n",
        "  '€': '<euro>',\n",
        "  '…': '...',\n",
        "  'Œ': 'OE',\n",
        "  '™': '(TM)',\n",
        "  'œ': 'oe',\n",
        "  '‰': '<per mille>',\n",
        "  '‡': '**',\n",
        "})\n",
        "\n",
        "multi_map.update(single_map)\n",
        "\n",
        "def dewinize(txt):\n",
        "  \"\"\"Win1252 문자 인코딩을 처리한다\"\"\"\n",
        "  return txt.translate(multi_map)\n",
        "\n",
        "def asciize(txt):\n",
        "  no_marks = shave_marks_latin(dewinize(txt))\n",
        "  no_marks = no_marks.replace('ß', 'ss')\n",
        "  return unicodedata.normalize('NFKC', no_marks)"
      ],
      "metadata": {
        "id": "FqlqyFjF9bFv"
      },
      "execution_count": 41,
      "outputs": []
    },
    {
      "cell_type": "code",
      "source": [
        "order = '“Herr Voß: • ½ cup of Œtker™ caffè latte • bowl of açaí.”'\n",
        "dewinize(order)"
      ],
      "metadata": {
        "colab": {
          "base_uri": "https://localhost:8080/",
          "height": 35
        },
        "id": "mEAS-oNB9qjq",
        "outputId": "4ecccce4-af7d-4283-d515-31f21ebdae5f"
      },
      "execution_count": 42,
      "outputs": [
        {
          "output_type": "execute_result",
          "data": {
            "text/plain": [
              "'\"Herr Voß: - ½ cup of OEtker(TM) caffè latte - bowl of açaí.\"'"
            ],
            "application/vnd.google.colaboratory.intrinsic+json": {
              "type": "string"
            }
          },
          "metadata": {},
          "execution_count": 42
        }
      ]
    },
    {
      "cell_type": "code",
      "source": [
        "asciize(order)"
      ],
      "metadata": {
        "colab": {
          "base_uri": "https://localhost:8080/",
          "height": 35
        },
        "id": "GtY5ExUW9tSp",
        "outputId": "86414610-8c8b-4185-f692-d98eefacb259"
      },
      "execution_count": 43,
      "outputs": [
        {
          "output_type": "execute_result",
          "data": {
            "text/plain": [
              "'\"Herr Voss: - 1⁄2 cup of OEtker(TM) caffe latte - bowl of acai.\"'"
            ],
            "application/vnd.google.colaboratory.intrinsic+json": {
              "type": "string"
            }
          },
          "metadata": {},
          "execution_count": 43
        }
      ]
    },
    {
      "cell_type": "code",
      "source": [
        "#예제 19\n",
        "fruits = ['caju', 'atemoia', 'cajá', 'açaí', 'acerola']\n",
        "sorted(fruits)"
      ],
      "metadata": {
        "colab": {
          "base_uri": "https://localhost:8080/"
        },
        "id": "8PbZviOl9zLL",
        "outputId": "bda7fc60-f1fd-4cee-aac7-2a92e1851b21"
      },
      "execution_count": 44,
      "outputs": [
        {
          "output_type": "execute_result",
          "data": {
            "text/plain": [
              "['acerola', 'atemoia', 'açaí', 'caju', 'cajá']"
            ]
          },
          "metadata": {},
          "execution_count": 44
        }
      ]
    },
    {
      "cell_type": "code",
      "source": [
        "!pip install pyuca"
      ],
      "metadata": {
        "colab": {
          "base_uri": "https://localhost:8080/"
        },
        "id": "YE9qxQMo94i-",
        "outputId": "fb630388-0a5c-4fed-d170-1d5528f5cbde"
      },
      "execution_count": 45,
      "outputs": [
        {
          "output_type": "stream",
          "name": "stdout",
          "text": [
            "Collecting pyuca\n",
            "  Downloading pyuca-1.2-py2.py3-none-any.whl.metadata (649 bytes)\n",
            "Downloading pyuca-1.2-py2.py3-none-any.whl (1.5 MB)\n",
            "\u001b[2K   \u001b[90m━━━━━━━━━━━━━━━━━━━━━━━━━━━━━━━━━━━━━━━━\u001b[0m \u001b[32m1.5/1.5 MB\u001b[0m \u001b[31m13.9 MB/s\u001b[0m eta \u001b[36m0:00:00\u001b[0m\n",
            "\u001b[?25hInstalling collected packages: pyuca\n",
            "Successfully installed pyuca-1.2\n"
          ]
        }
      ]
    },
    {
      "cell_type": "code",
      "source": [
        "import pyuca\n",
        "coll = pyuca.Collator()\n",
        "sorted_fruits = sorted(fruits, key=coll.sort_key)\n",
        "sorted_fruits"
      ],
      "metadata": {
        "colab": {
          "base_uri": "https://localhost:8080/"
        },
        "id": "S428zJww96V0",
        "outputId": "3b123682-e471-4fab-f56f-7ff9d541a393"
      },
      "execution_count": 46,
      "outputs": [
        {
          "output_type": "execute_result",
          "data": {
            "text/plain": [
              "['açaí', 'acerola', 'atemoia', 'cajá', 'caju']"
            ]
          },
          "metadata": {},
          "execution_count": 46
        }
      ]
    },
    {
      "cell_type": "code",
      "source": [
        "#예제 21\n",
        "import unicodedata\n",
        "import re\n",
        "\n",
        "re_digit = re.compile(r'\\d')\n",
        "sample = '1\\xbc\\xb2\\u0969\\u136b\\u216b\\u2466\\u2480\\u3285'\n",
        "\n",
        "for char in sample:\n",
        "  print('U+%04x' % ord(char),\n",
        "        char.center(6),\n",
        "        're_dig' if re_digit.match(char) else '-',\n",
        "        'isdig' if char.isdigit() else '-',\n",
        "        'isnum' if char.isnumeric() else '-',\n",
        "        format(unicodedata.numeric(char), '5.2f'),\n",
        "        unicodedata.name(char),\n",
        "        sep='\\t')"
      ],
      "metadata": {
        "colab": {
          "base_uri": "https://localhost:8080/"
        },
        "id": "c6w5hBjU-C5f",
        "outputId": "9e2d3590-7223-4268-b6f2-301df16c6aa3"
      },
      "execution_count": 47,
      "outputs": [
        {
          "output_type": "stream",
          "name": "stdout",
          "text": [
            "U+0031\t  1   \tre_dig\tisdig\tisnum\t 1.00\tDIGIT ONE\n",
            "U+00bc\t  ¼   \t-\t-\tisnum\t 0.25\tVULGAR FRACTION ONE QUARTER\n",
            "U+00b2\t  ²   \t-\tisdig\tisnum\t 2.00\tSUPERSCRIPT TWO\n",
            "U+0969\t  ३   \tre_dig\tisdig\tisnum\t 3.00\tDEVANAGARI DIGIT THREE\n",
            "U+136b\t  ፫   \t-\tisdig\tisnum\t 3.00\tETHIOPIC DIGIT THREE\n",
            "U+216b\t  Ⅻ   \t-\t-\tisnum\t12.00\tROMAN NUMERAL TWELVE\n",
            "U+2466\t  ⑦   \t-\tisdig\tisnum\t 7.00\tCIRCLED DIGIT SEVEN\n",
            "U+2480\t  ⒀   \t-\t-\tisnum\t13.00\tPARENTHESIZED NUMBER THIRTEEN\n",
            "U+3285\t  ㊅   \t-\t-\tisnum\t 6.00\tCIRCLED IDEOGRAPH SIX\n"
          ]
        }
      ]
    },
    {
      "cell_type": "code",
      "source": [
        "#예제 22\n",
        "import re\n",
        "\n",
        "re_numbers_str = re.compile(r'\\d+')\n",
        "re_words_str = re.compile(r'\\w+')\n",
        "re_numbers_bytes = re.compile(rb'\\d+')\n",
        "re_words_bytes = re.compile(rb'\\w+')\n",
        "\n",
        "text_str = (\"Ramanujan saw \\u0be7\\u0bed\\u0be8\\u0bef\"\n",
        "           \" as 1729 = 1³ + 12³ = 9³ + 10³.\")\n",
        "\n",
        "text_bytes = text_str.encode('utf_8')\n",
        "\n",
        "print('Text', repr(text_str), sep='\\n  ')\n",
        "print('Numbers')\n",
        "print('  str  :', re_numbers_str.findall(text_str))\n",
        "print('  bytes:', re_numbers_bytes.findall(text_bytes))\n",
        "print('Words')\n",
        "print('  str  :', re_words_str.findall(text_str))\n",
        "print('  bytes:', re_words_bytes.findall(text_bytes))"
      ],
      "metadata": {
        "colab": {
          "base_uri": "https://localhost:8080/"
        },
        "id": "-1Dp7uCR-S7Q",
        "outputId": "e36a979c-144d-4320-9423-01433a854d6a"
      },
      "execution_count": 48,
      "outputs": [
        {
          "output_type": "stream",
          "name": "stdout",
          "text": [
            "Text\n",
            "  'Ramanujan saw ௧௭௨௯ as 1729 = 1³ + 12³ = 9³ + 10³.'\n",
            "Numbers\n",
            "  str  : ['௧௭௨௯', '1729', '1', '12', '9', '10']\n",
            "  bytes: [b'1729', b'1', b'12', b'9', b'10']\n",
            "Words\n",
            "  str  : ['Ramanujan', 'saw', '௧௭௨௯', 'as', '1729', '1³', '12³', '9³', '10³']\n",
            "  bytes: [b'Ramanujan', b'saw', b'as', b'1729', b'1', b'12', b'9', b'10']\n"
          ]
        }
      ]
    },
    {
      "cell_type": "code",
      "source": [
        "#예제 23\n",
        "import os\n",
        "\n",
        "os.listdir('.')"
      ],
      "metadata": {
        "colab": {
          "base_uri": "https://localhost:8080/"
        },
        "id": "nfDdF6CN-gLy",
        "outputId": "65ec5d78-1c44-4fbd-fb24-6fa7be340082"
      },
      "execution_count": 50,
      "outputs": [
        {
          "output_type": "execute_result",
          "data": {
            "text/plain": [
              "['.config', 'dummy', 'cafe.txt', 'sample_data']"
            ]
          },
          "metadata": {},
          "execution_count": 50
        }
      ]
    },
    {
      "cell_type": "code",
      "source": [
        "os.listdir(b'.')"
      ],
      "metadata": {
        "colab": {
          "base_uri": "https://localhost:8080/"
        },
        "id": "-NZrdaal-izC",
        "outputId": "42f8887f-2f10-4240-c958-519867350ee9"
      },
      "execution_count": 51,
      "outputs": [
        {
          "output_type": "execute_result",
          "data": {
            "text/plain": [
              "[b'.config', b'dummy', b'cafe.txt', b'sample_data']"
            ]
          },
          "metadata": {},
          "execution_count": 51
        }
      ]
    },
    {
      "cell_type": "code",
      "source": [
        "#예제 24\n",
        "os.listdir('./')"
      ],
      "metadata": {
        "colab": {
          "base_uri": "https://localhost:8080/"
        },
        "id": "Bg4QiiYg-oVm",
        "outputId": "74a1a9a8-0515-4277-8ba3-af7b62678e67"
      },
      "execution_count": 55,
      "outputs": [
        {
          "output_type": "execute_result",
          "data": {
            "text/plain": [
              "['.config', 'dummy', 'cafe.txt', 'sample_data']"
            ]
          },
          "metadata": {},
          "execution_count": 55
        }
      ]
    },
    {
      "cell_type": "code",
      "source": [
        "os.listdir(b'./')"
      ],
      "metadata": {
        "colab": {
          "base_uri": "https://localhost:8080/"
        },
        "id": "owsIOS7o-r4t",
        "outputId": "260de43f-8702-40c0-e0b4-d574717ff1f4"
      },
      "execution_count": 56,
      "outputs": [
        {
          "output_type": "execute_result",
          "data": {
            "text/plain": [
              "[b'.config', b'dummy', b'cafe.txt', b'sample_data']"
            ]
          },
          "metadata": {},
          "execution_count": 56
        }
      ]
    },
    {
      "cell_type": "code",
      "source": [
        "pi_name_bytes = os.listdir(b'./')[1]\n",
        "pi_name_str = pi_name_bytes.decode('ascii', 'surrogateescape')\n",
        "pi_name_str"
      ],
      "metadata": {
        "colab": {
          "base_uri": "https://localhost:8080/",
          "height": 35
        },
        "id": "-7Q9-UHu_NaT",
        "outputId": "a05f5188-90ee-4d8f-d694-693fb7d5dd54"
      },
      "execution_count": 58,
      "outputs": [
        {
          "output_type": "execute_result",
          "data": {
            "text/plain": [
              "'dummy'"
            ],
            "application/vnd.google.colaboratory.intrinsic+json": {
              "type": "string"
            }
          },
          "metadata": {},
          "execution_count": 58
        }
      ]
    }
  ]
}